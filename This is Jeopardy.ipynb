{
 "cells": [
  {
   "cell_type": "markdown",
   "metadata": {},
   "source": [
    "#### Project Goals"
   ]
  },
  {
   "cell_type": "markdown",
   "metadata": {},
   "source": [
    "The goal of the project is to explore a datset of Jeopardy questions and answers and create some funcitons that allows us to study the answers and derive insights."
   ]
  },
  {
   "cell_type": "code",
   "execution_count": 11,
   "metadata": {},
   "outputs": [],
   "source": [
    "import pandas as pd\n",
    "import numpy as np\n",
    "pd.set_option('display.max_colwidth', None)"
   ]
  },
  {
   "cell_type": "markdown",
   "metadata": {},
   "source": [
    "Getting the Data Ready. One of the things we needed to update were the titles of each column. The spaces in the front of each column needed to be removed in order to make working with the data frame a lot easier."
   ]
  },
  {
   "cell_type": "code",
   "execution_count": 16,
   "metadata": {
    "scrolled": true
   },
   "outputs": [
    {
     "name": "stdout",
     "output_type": "stream",
     "text": [
      "        Show Number    Air Date             Round  \\\n",
      "0              4680  2004-12-31         Jeopardy!   \n",
      "1              4680  2004-12-31         Jeopardy!   \n",
      "2              4680  2004-12-31         Jeopardy!   \n",
      "3              4680  2004-12-31         Jeopardy!   \n",
      "4              4680  2004-12-31         Jeopardy!   \n",
      "...             ...         ...               ...   \n",
      "216925         4999  2006-05-11  Double Jeopardy!   \n",
      "216926         4999  2006-05-11  Double Jeopardy!   \n",
      "216927         4999  2006-05-11  Double Jeopardy!   \n",
      "216928         4999  2006-05-11  Double Jeopardy!   \n",
      "216929         4999  2006-05-11   Final Jeopardy!   \n",
      "\n",
      "                               Category  Value  \\\n",
      "0                               HISTORY   $200   \n",
      "1       ESPN's TOP 10 ALL-TIME ATHLETES   $200   \n",
      "2           EVERYBODY TALKS ABOUT IT...   $200   \n",
      "3                      THE COMPANY LINE   $200   \n",
      "4                   EPITAPHS & TRIBUTES   $200   \n",
      "...                                 ...    ...   \n",
      "216925                   RIDDLE ME THIS  $2000   \n",
      "216926                        \"T\" BIRDS  $2000   \n",
      "216927           AUTHORS IN THEIR YOUTH  $2000   \n",
      "216928                       QUOTATIONS  $2000   \n",
      "216929                   HISTORIC NAMES    NaN   \n",
      "\n",
      "                                                                                                                      Question  \\\n",
      "0                             For the last 8 years of his life, Galileo was under house arrest for espousing this man's theory   \n",
      "1                  No. 2: 1912 Olympian; football star at Carlisle Indian School; 6 MLB seasons with the Reds, Giants & Braves   \n",
      "2                                     The city of Yuma in this state has a record average of 4,055 hours of sunshine each year   \n",
      "3                                         In 1963, live on \"The Art Linkletter Show\", this company served its billionth burger   \n",
      "4                     Signer of the Dec. of Indep., framer of the Constitution of Mass., second President of the United States   \n",
      "...                                                                                                                        ...   \n",
      "216925                                              This Puccini opera turns on the solution to 3 riddles posed by the heroine   \n",
      "216926                 In North America this term is properly applied to only 4 species that are crested, including the tufted   \n",
      "216927               In Penny Lane, where this \"Hellraiser\" grew up, the barber shaves another customer--then flays him alive!   \n",
      "216928  From Ft. Sill, Okla. he made the plea, Arizona is my land, my home, my father's land, to which I now ask to... return\"   \n",
      "216929                 A silent movie title includes the last name of this 18th c. statesman & favorite of Catherine the Great   \n",
      "\n",
      "                                Answer  \n",
      "0                           Copernicus  \n",
      "1                           Jim Thorpe  \n",
      "2                              Arizona  \n",
      "3                           McDonald's  \n",
      "4                           John Adams  \n",
      "...                                ...  \n",
      "216925                        Turandot  \n",
      "216926                      a titmouse  \n",
      "216927                    Clive Barker  \n",
      "216928                        Geronimo  \n",
      "216929  Grigori Alexandrovich Potemkin  \n",
      "\n",
      "[216930 rows x 7 columns]\n"
     ]
    }
   ],
   "source": [
    "jeopardy_file = 'jeopardy.csv'\n",
    "\n",
    "jeopardy_data = pd.read_csv(jeopardy_file)\n",
    "\n",
    "#The titles of the columns contain a space in font of them, the code below removes the space.\n",
    "jeopardy_data.rename(columns={' Show Number': 'Show Number', \n",
    "                              ' Air Date': 'Air Date',\n",
    "                              ' Round': 'Round', \n",
    "                              ' Category': 'Category',\n",
    "                              ' Value': 'Value', \n",
    "                              ' Question': 'Question',\n",
    "                              ' Answer': 'Answer'}, inplace=True)\n",
    "\n",
    "#Resetting Index\n",
    "jeopardy_data.reset_index(drop=True, inplace=True)\n",
    "\n",
    "#Dropping potential duplicate columns\n",
    "jeopardy_data.drop_duplicates()\n",
    "\n",
    "print(jeopardy_data)"
   ]
  },
  {
   "cell_type": "markdown",
   "metadata": {},
   "source": [
    "Function that calls a list that searches the dataset questions for any key words you choose. This funciton will allow us to call questions from a specific area of study. "
   ]
  },
  {
   "cell_type": "code",
   "execution_count": 19,
   "metadata": {},
   "outputs": [
    {
     "name": "stdout",
     "output_type": "stream",
     "text": [
      "191857    Take 2 letters off a Beatles song title & you get this title of Paul McCartney's 2002 live CD of his American tour\n",
      "Name: Question, dtype: object\n"
     ]
    }
   ],
   "source": [
    "def filter_data(data, words):\n",
    "  filter = lambda x: all(word in x for word in words)\n",
    "  return data.loc[data[\"Question\"].apply(filter)]\n",
    "\n",
    "\n",
    "filtered = filter_data(jeopardy_data, [\"Beatles\", \"American\"])\n",
    "print(filtered[\"Question\"])"
   ]
  },
  {
   "cell_type": "markdown",
   "metadata": {},
   "source": [
    "This code allows us to explore the difficulty of groups of questions by using the Value column. The Value column denotes the difficutly by the price range. (The higher the price the higher the difficulty) A hurdle that I encountered in the function where the characters and None values within the column. Since, the column is set up as strings and not integers - exploratory analysis proofed difficult. Converting the string to intergers also proofed a bit of a challenge since I needed to convert string to integers while also removing special characters while keepiong the Nan values in mind in the function."
   ]
  },
  {
   "cell_type": "code",
   "execution_count": 20,
   "metadata": {},
   "outputs": [
    {
     "name": "stdout",
     "output_type": "stream",
     "text": [
      "755.7432432432432\n"
     ]
    }
   ],
   "source": [
    "# Adding a new column. If the value of the float column is not \"None\", then we cut off the first character (which is a dollar sign), and replace all commas with nothing, and then cast that value to a float. If the answer was \"None\", then we just enter a 0.\n",
    "\n",
    "def convert_to_float(value):\n",
    "    try:\n",
    "        return float(str(value).replace('$', '').replace(',', ''))\n",
    "    except (ValueError, TypeError):\n",
    "        return 0  # or any other default value to handle non-convertible cases\n",
    "\n",
    "jeopardy_data[\"Float Value\"] = jeopardy_data[\"Value\"].apply(lambda x: convert_to_float(x))\n",
    "\n",
    "# Filtering the dataset and finding the average value of those questions - the higher the value the higher the diffculty of that collection of questions. \n",
    "\n",
    "filtered = filter_data(jeopardy_data, [\"Song\"])\n",
    "print(filtered[\"Float Value\"].mean())"
   ]
  },
  {
   "cell_type": "code",
   "execution_count": 21,
   "metadata": {},
   "outputs": [
    {
     "name": "stdout",
     "output_type": "stream",
     "text": [
      "Answer\n",
      "Toni Morrison       8\n",
      "Solomon             6\n",
      "Walt Whitman        5\n",
      "Harvey Fierstein    4\n",
      "Norman Mailer       4\n",
      "                   ..\n",
      "(Henryk) Gorecki    1\n",
      "Russian             1\n",
      "Whitman             1\n",
      "Eliot               1\n",
      "Maya Angelou        1\n",
      "Name: count, Length: 239, dtype: int64\n"
     ]
    }
   ],
   "source": [
    "# A function to find the unique answers of a set of data\n",
    "def get_answer_counts(data):\n",
    "    return data[\"Answer\"].value_counts()\n",
    "\n",
    "# Testing the answer count function\n",
    "print(get_answer_counts(filtered))"
   ]
  }
 ],
 "metadata": {
  "kernelspec": {
   "display_name": "Python 3 (ipykernel)",
   "language": "python",
   "name": "python3"
  },
  "language_info": {
   "codemirror_mode": {
    "name": "ipython",
    "version": 3
   },
   "file_extension": ".py",
   "mimetype": "text/x-python",
   "name": "python",
   "nbconvert_exporter": "python",
   "pygments_lexer": "ipython3",
   "version": "3.11.5"
  }
 },
 "nbformat": 4,
 "nbformat_minor": 2
}
