{
 "cells": [
  {
   "cell_type": "markdown",
   "metadata": {},
   "source": [
    "# Introduction\n",
    "\n",
    "Introduction:\n",
    "This project involves the analysis of two datasets, namely 'observations' and 'species_info,' to explore and gain insights into the biodiversity of various species within different national parks. The initial steps include data loading, cleaning, and exploration to understand the structure and content of the datasets. The project utilizes Python libraries such as pandas, numpy, matplotlib, seaborn, and scipy for statistical analysis and visualization.\n",
    "\n",
    "Summary:\n",
    "The project begins with loading and exploring the datasets, investigating potential duplicates, handling missing values, and cleaning the data. Subsequent exploratory data analysis involves examining unique categories, conservation status distribution, and the number of species in each category. The investigation uncovers interesting patterns, such as the dominance of Vascular Plant species and the prevalence of stable conservation status. Deeper exploration includes examining endangered species across different categories, revealing birds as the category with the highest count of species of concern and mammals as the highest count of endangered species.\n",
    "\n",
    "Furthermore, a detailed analysis explores the proportion of protected species within each category, leading to visualizations highlighting the variations in protection levels. Finally, Chi-squared tests are conducted to assess the statistical significance of conservation status differences between selected species categories. The results suggest that, according to the dataset, there is no significant relationship between mammals and birds. However, there is a statistically significant difference between mammals and reptiles, indicating a higher rate of protection needed for mammals.\n",
    "\n",
    "Conclusion:\n",
    "In conclusion, this project provides valuable insights into the biodiversity and conservation status of species across different categories within national parks. The analyses highlight patterns, proportions, and statistical differences that contribute to a better understanding of the species landscape. The findings can guide further research efforts and conservation strategies, emphasizing the importance of protecting vulnerable species.\n",
    "\n",
    "Data sources: Both Observations.csv and Species_info.csv was provided by Codecademy.com."
   ]
  },
  {
   "cell_type": "markdown",
   "metadata": {},
   "source": [
    "### Loading the Data"
   ]
  },
  {
   "cell_type": "code",
   "execution_count": 159,
   "metadata": {
    "scrolled": false
   },
   "outputs": [],
   "source": [
    "import pandas as pd\n",
    "import numpy as np\n",
    "from matplotlib import pyplot as plt\n",
    "from scipy import stats\n",
    "from scipy.stats import chi2_contingency\n",
    "import seaborn as sns\n",
    "%matplotlib inline\n",
    "\n",
    "missing_values= ['N/a', 'N/A', 'NaN', 'n/a', np.nan]\n",
    "species_observations =  pd.read_csv('observations.csv',encoding='utf-8', na_values = missing_values)\n",
    "species_info = pd.read_csv('species_info.csv',encoding='utf-8', na_values = missing_values)"
   ]
  },
  {
   "cell_type": "markdown",
   "metadata": {},
   "source": [
    "### Initial Data Exploration"
   ]
  },
  {
   "cell_type": "code",
   "execution_count": 160,
   "metadata": {
    "scrolled": true
   },
   "outputs": [
    {
     "data": {
      "text/html": [
       "<div>\n",
       "<style scoped>\n",
       "    .dataframe tbody tr th:only-of-type {\n",
       "        vertical-align: middle;\n",
       "    }\n",
       "\n",
       "    .dataframe tbody tr th {\n",
       "        vertical-align: top;\n",
       "    }\n",
       "\n",
       "    .dataframe thead th {\n",
       "        text-align: right;\n",
       "    }\n",
       "</style>\n",
       "<table border=\"1\" class=\"dataframe\">\n",
       "  <thead>\n",
       "    <tr style=\"text-align: right;\">\n",
       "      <th></th>\n",
       "      <th>scientific_name</th>\n",
       "      <th>park_name</th>\n",
       "      <th>observations</th>\n",
       "    </tr>\n",
       "  </thead>\n",
       "  <tbody>\n",
       "    <tr>\n",
       "      <th>8050</th>\n",
       "      <td>Abies bifolia</td>\n",
       "      <td>Yellowstone National Park</td>\n",
       "      <td>215</td>\n",
       "    </tr>\n",
       "    <tr>\n",
       "      <th>4968</th>\n",
       "      <td>Abies bifolia</td>\n",
       "      <td>Bryce National Park</td>\n",
       "      <td>109</td>\n",
       "    </tr>\n",
       "    <tr>\n",
       "      <th>17990</th>\n",
       "      <td>Abies bifolia</td>\n",
       "      <td>Great Smoky Mountains National Park</td>\n",
       "      <td>72</td>\n",
       "    </tr>\n",
       "    <tr>\n",
       "      <th>20930</th>\n",
       "      <td>Abies bifolia</td>\n",
       "      <td>Yosemite National Park</td>\n",
       "      <td>136</td>\n",
       "    </tr>\n",
       "    <tr>\n",
       "      <th>4647</th>\n",
       "      <td>Abies concolor</td>\n",
       "      <td>Great Smoky Mountains National Park</td>\n",
       "      <td>101</td>\n",
       "    </tr>\n",
       "  </tbody>\n",
       "</table>\n",
       "</div>"
      ],
      "text/plain": [
       "      scientific_name                            park_name  observations\n",
       "8050    Abies bifolia            Yellowstone National Park           215\n",
       "4968    Abies bifolia                  Bryce National Park           109\n",
       "17990   Abies bifolia  Great Smoky Mountains National Park            72\n",
       "20930   Abies bifolia               Yosemite National Park           136\n",
       "4647   Abies concolor  Great Smoky Mountains National Park           101"
      ]
     },
     "execution_count": 160,
     "metadata": {},
     "output_type": "execute_result"
    }
   ],
   "source": [
    "column_to_sort_1 = 'scientific_name'\n",
    "species_observations.sort_values(by=column_to_sort_1, inplace=True)\n",
    "species_observations.head()"
   ]
  },
  {
   "cell_type": "code",
   "execution_count": 161,
   "metadata": {
    "scrolled": true
   },
   "outputs": [
    {
     "data": {
      "text/html": [
       "<div>\n",
       "<style scoped>\n",
       "    .dataframe tbody tr th:only-of-type {\n",
       "        vertical-align: middle;\n",
       "    }\n",
       "\n",
       "    .dataframe tbody tr th {\n",
       "        vertical-align: top;\n",
       "    }\n",
       "\n",
       "    .dataframe thead th {\n",
       "        text-align: right;\n",
       "    }\n",
       "</style>\n",
       "<table border=\"1\" class=\"dataframe\">\n",
       "  <thead>\n",
       "    <tr style=\"text-align: right;\">\n",
       "      <th></th>\n",
       "      <th>category</th>\n",
       "      <th>scientific_name</th>\n",
       "      <th>common_names</th>\n",
       "      <th>conservation_status</th>\n",
       "    </tr>\n",
       "  </thead>\n",
       "  <tbody>\n",
       "    <tr>\n",
       "      <th>4061</th>\n",
       "      <td>Vascular Plant</td>\n",
       "      <td>Abies bifolia</td>\n",
       "      <td>Rocky Mountain Alpine Fir</td>\n",
       "      <td>NaN</td>\n",
       "    </tr>\n",
       "    <tr>\n",
       "      <th>5443</th>\n",
       "      <td>Vascular Plant</td>\n",
       "      <td>Abies concolor</td>\n",
       "      <td>Balsam Fir, Colorado Fir, Concolor Fir, Silver...</td>\n",
       "      <td>NaN</td>\n",
       "    </tr>\n",
       "    <tr>\n",
       "      <th>1928</th>\n",
       "      <td>Vascular Plant</td>\n",
       "      <td>Abies fraseri</td>\n",
       "      <td>Fraser Fir</td>\n",
       "      <td>Species of Concern</td>\n",
       "    </tr>\n",
       "    <tr>\n",
       "      <th>2908</th>\n",
       "      <td>Nonvascular Plant</td>\n",
       "      <td>Abietinella abietina</td>\n",
       "      <td>Abietinella Moss</td>\n",
       "      <td>NaN</td>\n",
       "    </tr>\n",
       "    <tr>\n",
       "      <th>3736</th>\n",
       "      <td>Vascular Plant</td>\n",
       "      <td>Abronia ammophila</td>\n",
       "      <td>Wyoming Sand Verbena, Yellowstone Sand Verbena</td>\n",
       "      <td>Species of Concern</td>\n",
       "    </tr>\n",
       "  </tbody>\n",
       "</table>\n",
       "</div>"
      ],
      "text/plain": [
       "               category       scientific_name  \\\n",
       "4061     Vascular Plant         Abies bifolia   \n",
       "5443     Vascular Plant        Abies concolor   \n",
       "1928     Vascular Plant         Abies fraseri   \n",
       "2908  Nonvascular Plant  Abietinella abietina   \n",
       "3736     Vascular Plant     Abronia ammophila   \n",
       "\n",
       "                                           common_names conservation_status  \n",
       "4061                          Rocky Mountain Alpine Fir                 NaN  \n",
       "5443  Balsam Fir, Colorado Fir, Concolor Fir, Silver...                 NaN  \n",
       "1928                                         Fraser Fir  Species of Concern  \n",
       "2908                                   Abietinella Moss                 NaN  \n",
       "3736     Wyoming Sand Verbena, Yellowstone Sand Verbena  Species of Concern  "
      ]
     },
     "execution_count": 161,
     "metadata": {},
     "output_type": "execute_result"
    }
   ],
   "source": [
    "column_to_sort_2 = 'scientific_name'\n",
    "species_info.sort_values(by=column_to_sort_2, inplace=True)\n",
    "species_info.head()"
   ]
  },
  {
   "cell_type": "code",
   "execution_count": 162,
   "metadata": {},
   "outputs": [
    {
     "name": "stdout",
     "output_type": "stream",
     "text": [
      "species_observations shape: (23296, 3)\n",
      "species_info shape: (5824, 4)\n"
     ]
    }
   ],
   "source": [
    "#Lets take a look at at the shape of each table\n",
    "print(f\"species_observations shape: {species_observations.shape}\")\n",
    "print(f\"species_info shape: {species_info.shape}\")"
   ]
  },
  {
   "cell_type": "code",
   "execution_count": 163,
   "metadata": {},
   "outputs": [
    {
     "name": "stdout",
     "output_type": "stream",
     "text": [
      "Number of Scientific Names under observations table: 5541\n",
      "Number of Scientific Names under species table: 5541\n"
     ]
    }
   ],
   "source": [
    "#Lets see if there are more unique scientific names under observations or info.\n",
    "print(f\"Number of Scientific Names under observations table: {species_observations.scientific_name.nunique()}\")\n",
    "print(f\"Number of Scientific Names under species table: {species_info.scientific_name.nunique()}\")\n",
    "#We can see that each table contains the same names. Both tables are finding on the same set of living things."
   ]
  },
  {
   "cell_type": "markdown",
   "metadata": {},
   "source": [
    "### Cleaning the Data"
   ]
  },
  {
   "cell_type": "code",
   "execution_count": 164,
   "metadata": {},
   "outputs": [
    {
     "name": "stdout",
     "output_type": "stream",
     "text": [
      "True Duplicates in Observations: 30\n",
      "True Duplicates in Species: 0\n"
     ]
    }
   ],
   "source": [
    "#Lets see if there are any duplicates.\n",
    "\n",
    "columns_to_check_1 = ['scientific_name','park_name', 'observations']\n",
    "\n",
    "duplicated_rows_1 = species_observations.duplicated(subset=columns_to_check_1, keep=False).sum()\n",
    "\n",
    "print(f'True Duplicates in Observations: {duplicated_rows_1}')\n",
    "\n",
    "columns_to_check_2 = ['category', 'scientific_name','common_names', 'conservation_status']\n",
    "\n",
    "duplicated_rows_2 = species_info.duplicated(subset=columns_to_check_2, keep=False).sum()\n",
    "\n",
    "print(f'True Duplicates in Species: {duplicated_rows_2}')"
   ]
  },
  {
   "cell_type": "code",
   "execution_count": 165,
   "metadata": {},
   "outputs": [
    {
     "name": "stdout",
     "output_type": "stream",
     "text": [
      "True Duplicates in Observations: 0\n"
     ]
    }
   ],
   "source": [
    "#Lets Remove the Duplicates\n",
    "\n",
    "species_observations.drop_duplicates(subset=columns_to_check_1, keep='first', inplace=True)\n",
    "\n",
    "columns_to_check_1 = ['scientific_name','park_name', 'observations']\n",
    "\n",
    "duplicated_rows_1 = species_observations.duplicated(subset=columns_to_check_1, keep=False).sum()\n",
    "\n",
    "print(f'True Duplicates in Observations: {duplicated_rows_1}')"
   ]
  },
  {
   "cell_type": "code",
   "execution_count": 166,
   "metadata": {},
   "outputs": [
    {
     "data": {
      "text/plain": [
       "category                  0\n",
       "scientific_name           0\n",
       "common_names              0\n",
       "conservation_status    5633\n",
       "dtype: int64"
      ]
     },
     "execution_count": 166,
     "metadata": {},
     "output_type": "execute_result"
    }
   ],
   "source": [
    "#Checking for null values of both tables \n",
    "\n",
    "species_observations.isnull().sum()\n",
    "species_info.isnull().sum()\n",
    "\n",
    "#It looks like only species_info has null values under conservations_status."
   ]
  },
  {
   "cell_type": "code",
   "execution_count": 167,
   "metadata": {},
   "outputs": [
    {
     "name": "stdout",
     "output_type": "stream",
     "text": [
      "conservation_status\n",
      "Stable                5633\n",
      "Species of Concern     161\n",
      "Endangered              16\n",
      "Threatened              10\n",
      "In Recovery              4\n",
      "Name: count, dtype: int64\n"
     ]
    }
   ],
   "source": [
    "#Adding \"stable\" in the conservation_status to replace all null_values.\n",
    "\n",
    "replacement_string = 'Stable'\n",
    "species_info['conservation_status'] = species_info['conservation_status'].fillna(replacement_string)\n",
    "conservation_status_counts = species_info['conservation_status'].value_counts() \n",
    "print(conservation_status_counts)"
   ]
  },
  {
   "cell_type": "code",
   "execution_count": 168,
   "metadata": {},
   "outputs": [],
   "source": [
    "#Removing all the additional names of common_names\n",
    "species_info['common_names'] = species_info['common_names'].str.split(',').str[0]\n",
    "\n",
    "#Removing commas and parenthesis from commons_names\n",
    "species_info['common_names'] = species_info['common_names'].str.replace(r'\\([^)]*\\)', '', regex=True)\n",
    "species_info['common_names'] = species_info['common_names'].str.replace(r'\\b\\s*Or\\s*\\b', ' ', regex=True)"
   ]
  },
  {
   "cell_type": "markdown",
   "metadata": {},
   "source": [
    "## Deeper Exploration"
   ]
  },
  {
   "cell_type": "markdown",
   "metadata": {},
   "source": [
    "Lets take a deeper look at some of the data within the species_info dataset."
   ]
  },
  {
   "cell_type": "code",
   "execution_count": 169,
   "metadata": {},
   "outputs": [
    {
     "name": "stdout",
     "output_type": "stream",
     "text": [
      "number of categories: 7\n",
      "Categories: ['Vascular Plant' 'Nonvascular Plant' 'Bird' 'Amphibian' 'Reptile'\n",
      " 'Mammal' 'Fish']\n"
     ]
    }
   ],
   "source": [
    "#Lets see how many unique categories there are.\n",
    "print(f\"number of categories: {species_info.category.nunique()}\")\n",
    "print(f\"Categories: {species_info.category.unique()}\")"
   ]
  },
  {
   "cell_type": "code",
   "execution_count": 170,
   "metadata": {
    "scrolled": true
   },
   "outputs": [
    {
     "data": {
      "text/plain": [
       "category\n",
       "Amphibian              80\n",
       "Bird                  521\n",
       "Fish                  127\n",
       "Mammal                214\n",
       "Nonvascular Plant     333\n",
       "Reptile                79\n",
       "Vascular Plant       4470\n",
       "dtype: int64"
      ]
     },
     "execution_count": 170,
     "metadata": {},
     "output_type": "execute_result"
    }
   ],
   "source": [
    "#What category contains the largest share of species in the dataset?\n",
    "species_info.groupby('category').size()"
   ]
  },
  {
   "cell_type": "markdown",
   "metadata": {},
   "source": [
    "By far, the Vascular Plant category is the largest count that appears in the dataset."
   ]
  },
  {
   "cell_type": "code",
   "execution_count": 171,
   "metadata": {},
   "outputs": [
    {
     "data": {
      "text/plain": [
       "conservation_status\n",
       "Endangered              16\n",
       "In Recovery              4\n",
       "Species of Concern     161\n",
       "Stable                5633\n",
       "Threatened              10\n",
       "dtype: int64"
      ]
     },
     "execution_count": 171,
     "metadata": {},
     "output_type": "execute_result"
    }
   ],
   "source": [
    "#What conservation status has the highest count?\n",
    "species_info.groupby('conservation_status').size()"
   ]
  },
  {
   "cell_type": "markdown",
   "metadata": {},
   "source": [
    "Upon analysis of the dataset, we observe that 5633 species are classified as stable, while 4 are transitioning towards stability. Conversely, 187 species are currently trending towards extinction. To gain further insights, let's examine the conservation status count within each category and identify the category with the highest count of endangered species."
   ]
  },
  {
   "cell_type": "code",
   "execution_count": 172,
   "metadata": {
    "scrolled": true
   },
   "outputs": [
    {
     "data": {
      "text/html": [
       "<div>\n",
       "<style scoped>\n",
       "    .dataframe tbody tr th:only-of-type {\n",
       "        vertical-align: middle;\n",
       "    }\n",
       "\n",
       "    .dataframe tbody tr th {\n",
       "        vertical-align: top;\n",
       "    }\n",
       "\n",
       "    .dataframe thead th {\n",
       "        text-align: right;\n",
       "    }\n",
       "</style>\n",
       "<table border=\"1\" class=\"dataframe\">\n",
       "  <thead>\n",
       "    <tr style=\"text-align: right;\">\n",
       "      <th>conservation_status</th>\n",
       "      <th>Endangered</th>\n",
       "      <th>In Recovery</th>\n",
       "      <th>Species of Concern</th>\n",
       "      <th>Stable</th>\n",
       "      <th>Threatened</th>\n",
       "    </tr>\n",
       "    <tr>\n",
       "      <th>category</th>\n",
       "      <th></th>\n",
       "      <th></th>\n",
       "      <th></th>\n",
       "      <th></th>\n",
       "      <th></th>\n",
       "    </tr>\n",
       "  </thead>\n",
       "  <tbody>\n",
       "    <tr>\n",
       "      <th>Amphibian</th>\n",
       "      <td>1</td>\n",
       "      <td>0</td>\n",
       "      <td>4</td>\n",
       "      <td>73</td>\n",
       "      <td>2</td>\n",
       "    </tr>\n",
       "    <tr>\n",
       "      <th>Bird</th>\n",
       "      <td>4</td>\n",
       "      <td>3</td>\n",
       "      <td>72</td>\n",
       "      <td>442</td>\n",
       "      <td>0</td>\n",
       "    </tr>\n",
       "    <tr>\n",
       "      <th>Fish</th>\n",
       "      <td>3</td>\n",
       "      <td>0</td>\n",
       "      <td>4</td>\n",
       "      <td>116</td>\n",
       "      <td>4</td>\n",
       "    </tr>\n",
       "    <tr>\n",
       "      <th>Mammal</th>\n",
       "      <td>7</td>\n",
       "      <td>1</td>\n",
       "      <td>28</td>\n",
       "      <td>176</td>\n",
       "      <td>2</td>\n",
       "    </tr>\n",
       "    <tr>\n",
       "      <th>Nonvascular Plant</th>\n",
       "      <td>0</td>\n",
       "      <td>0</td>\n",
       "      <td>5</td>\n",
       "      <td>328</td>\n",
       "      <td>0</td>\n",
       "    </tr>\n",
       "    <tr>\n",
       "      <th>Reptile</th>\n",
       "      <td>0</td>\n",
       "      <td>0</td>\n",
       "      <td>5</td>\n",
       "      <td>74</td>\n",
       "      <td>0</td>\n",
       "    </tr>\n",
       "    <tr>\n",
       "      <th>Vascular Plant</th>\n",
       "      <td>1</td>\n",
       "      <td>0</td>\n",
       "      <td>43</td>\n",
       "      <td>4424</td>\n",
       "      <td>2</td>\n",
       "    </tr>\n",
       "  </tbody>\n",
       "</table>\n",
       "</div>"
      ],
      "text/plain": [
       "conservation_status  Endangered  In Recovery  Species of Concern  Stable  \\\n",
       "category                                                                   \n",
       "Amphibian                     1            0                   4      73   \n",
       "Bird                          4            3                  72     442   \n",
       "Fish                          3            0                   4     116   \n",
       "Mammal                        7            1                  28     176   \n",
       "Nonvascular Plant             0            0                   5     328   \n",
       "Reptile                       0            0                   5      74   \n",
       "Vascular Plant                1            0                  43    4424   \n",
       "\n",
       "conservation_status  Threatened  \n",
       "category                         \n",
       "Amphibian                     2  \n",
       "Bird                          0  \n",
       "Fish                          4  \n",
       "Mammal                        2  \n",
       "Nonvascular Plant             0  \n",
       "Reptile                       0  \n",
       "Vascular Plant                2  "
      ]
     },
     "execution_count": 172,
     "metadata": {},
     "output_type": "execute_result"
    }
   ],
   "source": [
    "species_info.pivot_table(index='category', columns='conservation_status', aggfunc='size', fill_value=0)"
   ]
  },
  {
   "cell_type": "code",
   "execution_count": 173,
   "metadata": {},
   "outputs": [
    {
     "data": {
      "image/png": "[encoded data removed]",
      "text/plain": [
       "<Figure size 1000x600 with 1 Axes>"
      ]
     },
     "metadata": {},
     "output_type": "display_data"
    }
   ],
   "source": [
    "# Create a pivot table to count conservation_status within each category\n",
    "pivot_table = species_info.pivot_table(index='category', columns='conservation_status', aggfunc='size', fill_value=0)\n",
    "\n",
    "# Remove 'Stable' category from the pivot table\n",
    "pivot_table = pivot_table.drop(columns='Stable', errors='ignore')\n",
    "\n",
    "# Plot the bar chart\n",
    "pivot_table.plot(kind='bar', stacked=True, colormap='RdYlGn', figsize=(10, 6))\n",
    "\n",
    "# Adding labels and title\n",
    "plt.xlabel('Category')\n",
    "plt.ylabel('Count')\n",
    "plt.title('Conservation Status Count by Category (excluding Stable)')\n",
    "\n",
    "# Display the plot\n",
    "plt.show()"
   ]
  },
  {
   "cell_type": "markdown",
   "metadata": {},
   "source": [
    "The analysis reveals that bird species exhibit the highest cumulative count across species of concern. On the other hand, the mammal category stands out with the highest count in the endangered category. Notably, both nonvascular plants and reptiles exclusively contain species categorized as 'species of concern.' A key takeaway is that species across all categories show signs of either transitioning towards endangerment, species of concern, or being threatened."
   ]
  },
  {
   "cell_type": "markdown",
   "metadata": {},
   "source": [
    "Let's delve further into this by examining which types of species are at a higher risk of endangerment. To begin, we'll initiate the process by creating a new column."
   ]
  },
  {
   "cell_type": "code",
   "execution_count": 174,
   "metadata": {},
   "outputs": [],
   "source": [
    "species_info['is_protected'] = species_info.conservation_status != 'Stable'"
   ]
  },
  {
   "cell_type": "code",
   "execution_count": 175,
   "metadata": {
    "scrolled": true
   },
   "outputs": [
    {
     "data": {
      "text/html": [
       "<div>\n",
       "<style scoped>\n",
       "    .dataframe tbody tr th:only-of-type {\n",
       "        vertical-align: middle;\n",
       "    }\n",
       "\n",
       "    .dataframe tbody tr th {\n",
       "        vertical-align: top;\n",
       "    }\n",
       "\n",
       "    .dataframe thead th {\n",
       "        text-align: right;\n",
       "    }\n",
       "</style>\n",
       "<table border=\"1\" class=\"dataframe\">\n",
       "  <thead>\n",
       "    <tr style=\"text-align: right;\">\n",
       "      <th></th>\n",
       "      <th>category</th>\n",
       "      <th>not_protected</th>\n",
       "      <th>protected</th>\n",
       "    </tr>\n",
       "  </thead>\n",
       "  <tbody>\n",
       "    <tr>\n",
       "      <th>0</th>\n",
       "      <td>Amphibian</td>\n",
       "      <td>72</td>\n",
       "      <td>7</td>\n",
       "    </tr>\n",
       "    <tr>\n",
       "      <th>1</th>\n",
       "      <td>Bird</td>\n",
       "      <td>413</td>\n",
       "      <td>75</td>\n",
       "    </tr>\n",
       "    <tr>\n",
       "      <th>2</th>\n",
       "      <td>Fish</td>\n",
       "      <td>115</td>\n",
       "      <td>11</td>\n",
       "    </tr>\n",
       "    <tr>\n",
       "      <th>3</th>\n",
       "      <td>Mammal</td>\n",
       "      <td>146</td>\n",
       "      <td>30</td>\n",
       "    </tr>\n",
       "    <tr>\n",
       "      <th>4</th>\n",
       "      <td>Nonvascular Plant</td>\n",
       "      <td>328</td>\n",
       "      <td>5</td>\n",
       "    </tr>\n",
       "    <tr>\n",
       "      <th>5</th>\n",
       "      <td>Reptile</td>\n",
       "      <td>73</td>\n",
       "      <td>5</td>\n",
       "    </tr>\n",
       "    <tr>\n",
       "      <th>6</th>\n",
       "      <td>Vascular Plant</td>\n",
       "      <td>4216</td>\n",
       "      <td>46</td>\n",
       "    </tr>\n",
       "  </tbody>\n",
       "</table>\n",
       "</div>"
      ],
      "text/plain": [
       "            category  not_protected  protected\n",
       "0          Amphibian             72          7\n",
       "1               Bird            413         75\n",
       "2               Fish            115         11\n",
       "3             Mammal            146         30\n",
       "4  Nonvascular Plant            328          5\n",
       "5            Reptile             73          5\n",
       "6     Vascular Plant           4216         46"
      ]
     },
     "execution_count": 175,
     "metadata": {},
     "output_type": "execute_result"
    }
   ],
   "source": [
    "category_counts = species_info.groupby(['category', 'is_protected'])\\\n",
    ".scientific_name.nunique()\\\n",
    ".reset_index()\\\n",
    ".pivot(columns='is_protected',\n",
    "      index='category',\n",
    "      values='scientific_name')\\\n",
    ".reset_index()\n",
    "\n",
    "category_counts.columns = category_counts.columns.get_level_values(0)\n",
    "category_counts.columns = ['category', 'not_protected', 'protected']\n",
    "\n",
    "category_counts"
   ]
  },
  {
   "cell_type": "code",
   "execution_count": 176,
   "metadata": {
    "scrolled": false
   },
   "outputs": [
    {
     "data": {
      "text/html": [
       "<div>\n",
       "<style scoped>\n",
       "    .dataframe tbody tr th:only-of-type {\n",
       "        vertical-align: middle;\n",
       "    }\n",
       "\n",
       "    .dataframe tbody tr th {\n",
       "        vertical-align: top;\n",
       "    }\n",
       "\n",
       "    .dataframe thead th {\n",
       "        text-align: right;\n",
       "    }\n",
       "</style>\n",
       "<table border=\"1\" class=\"dataframe\">\n",
       "  <thead>\n",
       "    <tr style=\"text-align: right;\">\n",
       "      <th></th>\n",
       "      <th>category</th>\n",
       "      <th>not_protected</th>\n",
       "      <th>protected</th>\n",
       "      <th>percent_protected</th>\n",
       "    </tr>\n",
       "  </thead>\n",
       "  <tbody>\n",
       "    <tr>\n",
       "      <th>0</th>\n",
       "      <td>Amphibian</td>\n",
       "      <td>72</td>\n",
       "      <td>7</td>\n",
       "      <td>0.088608</td>\n",
       "    </tr>\n",
       "    <tr>\n",
       "      <th>1</th>\n",
       "      <td>Bird</td>\n",
       "      <td>413</td>\n",
       "      <td>75</td>\n",
       "      <td>0.153689</td>\n",
       "    </tr>\n",
       "    <tr>\n",
       "      <th>2</th>\n",
       "      <td>Fish</td>\n",
       "      <td>115</td>\n",
       "      <td>11</td>\n",
       "      <td>0.087302</td>\n",
       "    </tr>\n",
       "    <tr>\n",
       "      <th>3</th>\n",
       "      <td>Mammal</td>\n",
       "      <td>146</td>\n",
       "      <td>30</td>\n",
       "      <td>0.170455</td>\n",
       "    </tr>\n",
       "    <tr>\n",
       "      <th>4</th>\n",
       "      <td>Nonvascular Plant</td>\n",
       "      <td>328</td>\n",
       "      <td>5</td>\n",
       "      <td>0.015015</td>\n",
       "    </tr>\n",
       "    <tr>\n",
       "      <th>5</th>\n",
       "      <td>Reptile</td>\n",
       "      <td>73</td>\n",
       "      <td>5</td>\n",
       "      <td>0.064103</td>\n",
       "    </tr>\n",
       "    <tr>\n",
       "      <th>6</th>\n",
       "      <td>Vascular Plant</td>\n",
       "      <td>4216</td>\n",
       "      <td>46</td>\n",
       "      <td>0.010793</td>\n",
       "    </tr>\n",
       "  </tbody>\n",
       "</table>\n",
       "</div>"
      ],
      "text/plain": [
       "            category  not_protected  protected  percent_protected\n",
       "0          Amphibian             72          7           0.088608\n",
       "1               Bird            413         75           0.153689\n",
       "2               Fish            115         11           0.087302\n",
       "3             Mammal            146         30           0.170455\n",
       "4  Nonvascular Plant            328          5           0.015015\n",
       "5            Reptile             73          5           0.064103\n",
       "6     Vascular Plant           4216         46           0.010793"
      ]
     },
     "execution_count": 176,
     "metadata": {},
     "output_type": "execute_result"
    }
   ],
   "source": [
    "category_counts['percent_protected'] = category_counts.protected / \\\n",
    "(category_counts.protected + category_counts.not_protected)\n",
    "\n",
    "category_counts"
   ]
  },
  {
   "cell_type": "code",
   "execution_count": 177,
   "metadata": {},
   "outputs": [
    {
     "data": {
      "image/png": "[encoded data removed]",
      "text/plain": [
       "<Figure size 1000x600 with 1 Axes>"
      ]
     },
     "metadata": {},
     "output_type": "display_data"
    }
   ],
   "source": [
    "plt.figure(figsize=(10, 6))\n",
    "plt.bar(category_counts['category'], category_counts['not_protected'], label='Not Protected')\n",
    "plt.bar(category_counts['category'], category_counts['protected'], bottom=category_counts['not_protected'], label='Protected')\n",
    "\n",
    "for index, row in category_counts.iterrows():\n",
    "    plt.text(index, row['not_protected'] + row['protected'] / 2, f\"{row['percent_protected']:.1%}\", ha='center', va='center')\n",
    "\n",
    "plt.xlabel('Category')\n",
    "plt.ylabel('Number of Species')\n",
    "plt.title('Number of Protected and Not Protected Species by Category')\n",
    "plt.legend()\n",
    "plt.xticks(rotation=45, ha='right')  # Rotate x-axis labels for better readability\n",
    "plt.show()"
   ]
  },
  {
   "cell_type": "markdown",
   "metadata": {},
   "source": [
    "In our visualization, we observe that the bird category has the highest count of protected species, while the reptile category has the lowest. Although this observation alone doesn't explain the underlying reasons, it serves as a valuable starting point, guiding our research toward understanding why certain categories exhibit higher or lower numbers of protected species. This insight can inform the direction of our research efforts."
   ]
  },
  {
   "cell_type": "markdown",
   "metadata": {},
   "source": [
    "Now, let's conduct Chi-squared tests to determine whether there are statistically significant differences in conservation status rates among different species."
   ]
  },
  {
   "cell_type": "code",
   "execution_count": 182,
   "metadata": {},
   "outputs": [
    {
     "data": {
      "text/plain": [
       "Chi2ContingencyResult(statistic=0.1617014831654557, pvalue=0.6875948096661336, dof=1, expected_freq=array([[ 27.8313253, 148.1686747],\n",
       "       [ 77.1686747, 410.8313253]]))"
      ]
     },
     "execution_count": 182,
     "metadata": {},
     "output_type": "execute_result"
    }
   ],
   "source": [
    "#Lets check the relationship between Mammal and Birds.\n",
    "contingency1 = [[30, 146],\n",
    "               [75, 413]]\n",
    "\n",
    "chi2_contingency(contingency1)"
   ]
  },
  {
   "cell_type": "markdown",
   "metadata": {},
   "source": [
    "The p-value for the comparison between Mammals and Birds is 0.69. When compared to the standard significance level of 0.05, it suggests that there is no significant relationship between them."
   ]
  },
  {
   "cell_type": "code",
   "execution_count": 183,
   "metadata": {},
   "outputs": [],
   "source": [
    "#Lets check the relationship between Reptile and Mammal."
   ]
  },
  {
   "cell_type": "code",
   "execution_count": 185,
   "metadata": {},
   "outputs": [
    {
     "data": {
      "text/plain": [
       "Chi2ContingencyResult(statistic=4.289183096203645, pvalue=0.03835559022969898, dof=1, expected_freq=array([[ 24.2519685, 151.7480315],\n",
       "       [ 10.7480315,  67.2519685]]))"
      ]
     },
     "execution_count": 185,
     "metadata": {},
     "output_type": "execute_result"
    }
   ],
   "source": [
    "contingency2 = [[30, 146],\n",
    "               [5, 73]]\n",
    "\n",
    "chi2_contingency(contingency2)"
   ]
  },
  {
   "cell_type": "markdown",
   "metadata": {},
   "source": [
    "The p-value for the comparison between Mammals and Reptiles is 0.03. When compared to the standard significance level of 0.05, it suggests that there is statistically significance between the two. It can be states that according to this dataset, mammals are shown to have a higher rate of needed protection then reptiles. "
   ]
  }
 ],
 "metadata": {
  "kernelspec": {
   "display_name": "Python 3 (ipykernel)",
   "language": "python",
   "name": "python3"
  },
  "language_info": {
   "codemirror_mode": {
    "name": "ipython",
    "version": 3
   },
   "file_extension": ".py",
   "mimetype": "text/x-python",
   "name": "python",
   "nbconvert_exporter": "python",
   "pygments_lexer": "ipython3",
   "version": "3.11.5"
  }
 },
 "nbformat": 4,
 "nbformat_minor": 4
}
